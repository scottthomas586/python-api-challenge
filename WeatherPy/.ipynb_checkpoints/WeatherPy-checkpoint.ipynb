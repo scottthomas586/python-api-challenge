{
 "cells": [
  {
   "cell_type": "markdown",
   "metadata": {},
   "source": [
    "# WeatherPy\n",
    "----\n",
    "\n",
    "#### Note\n",
    "* Instructions have been included for each segment. You do not have to follow them exactly, but they are included to help you think through the steps."
   ]
  },
  {
   "cell_type": "code",
   "execution_count": 2,
   "metadata": {
    "scrolled": true
   },
   "outputs": [],
   "source": [
    "# Dependencies and Setup\n",
    "import matplotlib.pyplot as plt\n",
    "import pandas as pd\n",
    "import numpy as np\n",
    "import requests\n",
    "import time\n",
    "from scipy.stats import linregress\n",
    "\n",
    "# Import API key\n",
    "from api_keys import weather_api_key\n",
    "\n",
    "# Incorporated citipy to determine city based on latitude and longitude\n",
    "from citipy import citipy\n",
    "\n",
    "# Output File (CSV)\n",
    "output_data_file = \"output_data/cities.csv\"\n",
    "\n",
    "# Range of latitudes and longitudes\n",
    "lat_range = (-90, 90)\n",
    "lng_range = (-180, 180)"
   ]
  },
  {
   "cell_type": "markdown",
   "metadata": {},
   "source": [
    "## Generate Cities List"
   ]
  },
  {
   "cell_type": "code",
   "execution_count": 3,
   "metadata": {},
   "outputs": [
    {
     "data": {
      "text/plain": [
       "599"
      ]
     },
     "execution_count": 3,
     "metadata": {},
     "output_type": "execute_result"
    }
   ],
   "source": [
    "# List for holding lat_lngs and cities\n",
    "lat_lngs = []\n",
    "cities = []\n",
    "\n",
    "# Create a set of random lat and lng combinations\n",
    "lats = np.random.uniform(lat_range[0], lat_range[1], size=1500)\n",
    "lngs = np.random.uniform(lng_range[0], lng_range[1], size=1500)\n",
    "lat_lngs = zip(lats, lngs)\n",
    "\n",
    "# Identify nearest city for each lat, lng combination\n",
    "for lat_lng in lat_lngs:\n",
    "    city = citipy.nearest_city(lat_lng[0], lat_lng[1]).city_name\n",
    "    \n",
    "    # If the city is unique, then add it to a our cities list\n",
    "    if city not in cities:\n",
    "        cities.append(city)\n",
    "\n",
    "# Print the city count to confirm sufficient count\n",
    "len(cities)"
   ]
  },
  {
   "cell_type": "markdown",
   "metadata": {},
   "source": [
    "### Perform API Calls\n",
    "* Perform a weather check on each city using a series of successive API calls.\n",
    "* Include a print log of each city as it'sbeing processed (with the city number and city name).\n"
   ]
  },
  {
   "cell_type": "code",
   "execution_count": 4,
   "metadata": {
    "scrolled": true
   },
   "outputs": [
    {
     "name": "stdout",
     "output_type": "stream",
     "text": [
      "Retrieving weather data for city number 1:  klaksvik\n",
      "Retrieving weather data for city number 2:  coquimbo\n",
      "Retrieving weather data for city number 3:  luderitz\n",
      "Retrieving weather data for city number 4:  matagami\n",
      "badgam not found, skip this one\n",
      "Retrieving weather data for city number 6:  mahebourg\n",
      "Retrieving weather data for city number 7:  kieta\n",
      "Retrieving weather data for city number 8:  hermanus\n",
      "Retrieving weather data for city number 9:  bluff\n",
      "Retrieving weather data for city number 10:  faya\n",
      "Retrieving weather data for city number 11:  lebu\n",
      "Retrieving weather data for city number 12:  mumbwa\n",
      "Retrieving weather data for city number 13:  busselton\n",
      "Retrieving weather data for city number 14:  vila franca do campo\n",
      "Retrieving weather data for city number 15:  cabo san lucas\n",
      "Retrieving weather data for city number 16:  hithadhoo\n",
      "Retrieving weather data for city number 17:  khatanga\n",
      "Retrieving weather data for city number 18:  ilulissat\n",
      "Retrieving weather data for city number 19:  jamestown\n",
      "Retrieving weather data for city number 20:  axim\n",
      "Retrieving weather data for city number 21:  charters towers\n",
      "Retrieving weather data for city number 22:  margate\n",
      "Retrieving weather data for city number 23:  ushuaia\n",
      "Retrieving weather data for city number 24:  yellowknife\n",
      "Retrieving weather data for city number 25:  hobart\n",
      "Retrieving weather data for city number 26:  corumba\n",
      "Retrieving weather data for city number 27:  guerrero negro\n",
      "Retrieving weather data for city number 28:  hit\n",
      "Retrieving weather data for city number 29:  airai\n",
      "Retrieving weather data for city number 30:  portland\n",
      "Retrieving weather data for city number 31:  hamilton\n",
      "Retrieving weather data for city number 32:  lavrentiya\n",
      "Retrieving weather data for city number 33:  myre\n",
      "Retrieving weather data for city number 34:  arraial do cabo\n",
      "Retrieving weather data for city number 35:  kapaa\n",
      "Retrieving weather data for city number 36:  rikitea\n",
      "Retrieving weather data for city number 37:  butaritari\n",
      "belushya guba not found, skip this one\n",
      "illoqqortoormiut not found, skip this one\n",
      "Retrieving weather data for city number 40:  chuy\n",
      "Retrieving weather data for city number 41:  la cruz\n",
      "Retrieving weather data for city number 42:  nome\n",
      "barentsburg not found, skip this one\n",
      "Retrieving weather data for city number 44:  henties bay\n",
      "chagda not found, skip this one\n",
      "Retrieving weather data for city number 46:  dali\n",
      "Retrieving weather data for city number 47:  terney\n",
      "Retrieving weather data for city number 48:  beloha\n",
      "Retrieving weather data for city number 49:  spirit river\n",
      "Retrieving weather data for city number 50:  ancud\n",
      "Retrieving weather data for city number 51:  qaanaaq\n",
      "Retrieving weather data for city number 52:  ningxiang\n",
      "Retrieving weather data for city number 53:  college\n",
      "Retrieving weather data for city number 54:  east london\n",
      "Retrieving weather data for city number 55:  punta arenas\n",
      "Retrieving weather data for city number 56:  abu samrah\n",
      "Retrieving weather data for city number 57:  mataura\n",
      "Retrieving weather data for city number 58:  birnin kebbi\n",
      "Retrieving weather data for city number 59:  isangel\n",
      "Retrieving weather data for city number 60:  kodiak\n",
      "Retrieving weather data for city number 61:  yuncheng\n",
      "Retrieving weather data for city number 62:  vaini\n",
      "attawapiskat not found, skip this one\n",
      "Retrieving weather data for city number 64:  craigieburn\n",
      "Retrieving weather data for city number 65:  hofn\n",
      "Retrieving weather data for city number 66:  souris\n",
      "Retrieving weather data for city number 67:  port elizabeth\n",
      "Retrieving weather data for city number 68:  bambous virieux\n",
      "Retrieving weather data for city number 69:  namatanai\n",
      "Retrieving weather data for city number 70:  tura\n",
      "Retrieving weather data for city number 71:  saldanha\n",
      "Retrieving weather data for city number 72:  tasiilaq\n",
      "tumannyy not found, skip this one\n",
      "Retrieving weather data for city number 74:  coolum beach\n",
      "Retrieving weather data for city number 75:  puerto ayora\n",
      "Retrieving weather data for city number 76:  hilo\n",
      "Retrieving weather data for city number 77:  atuona\n",
      "Retrieving weather data for city number 78:  menongue\n",
      "Retrieving weather data for city number 79:  longyearbyen\n",
      "Retrieving weather data for city number 80:  faanui\n",
      "Retrieving weather data for city number 81:  araouane\n",
      "Retrieving weather data for city number 82:  paamiut\n",
      "Retrieving weather data for city number 83:  cidreira\n",
      "Retrieving weather data for city number 84:  meulaboh\n",
      "Retrieving weather data for city number 85:  dingle\n",
      "Retrieving weather data for city number 86:  cape town\n",
      "Retrieving weather data for city number 87:  alofi\n",
      "nizhneyansk not found, skip this one\n",
      "Retrieving weather data for city number 89:  tyukalinsk\n",
      "Retrieving weather data for city number 90:  castro\n",
      "Retrieving weather data for city number 91:  omboue\n",
      "Retrieving weather data for city number 92:  listvyanskiy\n",
      "Retrieving weather data for city number 93:  kaduy\n",
      "Retrieving weather data for city number 94:  barrow\n",
      "Retrieving weather data for city number 95:  albany\n",
      "Retrieving weather data for city number 96:  tuktoyaktuk\n",
      "Retrieving weather data for city number 97:  richards bay\n",
      "taolanaro not found, skip this one\n",
      "Retrieving weather data for city number 99:  bardiyah\n",
      "Retrieving weather data for city number 100:  zambezi\n",
      "Retrieving weather data for city number 101:  lata\n",
      "Retrieving weather data for city number 102:  saint-philippe\n",
      "tsihombe not found, skip this one\n",
      "Retrieving weather data for city number 104:  nikolskoye\n",
      "Retrieving weather data for city number 105:  manta\n",
      "Retrieving weather data for city number 106:  georgetown\n",
      "Retrieving weather data for city number 107:  leningradskiy\n",
      "Retrieving weather data for city number 108:  librazhd\n",
      "Retrieving weather data for city number 109:  sakakah\n",
      "mys shmidta not found, skip this one\n",
      "Retrieving weather data for city number 111:  navahrudak\n",
      "Retrieving weather data for city number 112:  roebourne\n",
      "Retrieving weather data for city number 113:  vostok\n",
      "Retrieving weather data for city number 114:  wabana\n",
      "Retrieving weather data for city number 115:  kawalu\n",
      "Retrieving weather data for city number 116:  le port\n",
      "Retrieving weather data for city number 117:  makasar\n",
      "Retrieving weather data for city number 118:  bay roberts\n",
      "Retrieving weather data for city number 119:  los llanos de aridane\n",
      "Retrieving weather data for city number 120:  tecpan\n",
      "Retrieving weather data for city number 121:  sola\n",
      "Retrieving weather data for city number 122:  taperoa\n",
      "Retrieving weather data for city number 123:  tahta\n",
      "Retrieving weather data for city number 124:  ponta do sol\n",
      "Retrieving weather data for city number 125:  padang\n",
      "Retrieving weather data for city number 126:  hami\n",
      "Retrieving weather data for city number 127:  husavik\n",
      "Retrieving weather data for city number 128:  talnakh\n",
      "Retrieving weather data for city number 129:  tazovskiy\n",
      "Retrieving weather data for city number 130:  conceicao do araguaia\n",
      "Retrieving weather data for city number 131:  haines junction\n",
      "Retrieving weather data for city number 132:  bronkhorstspruit\n",
      "Retrieving weather data for city number 133:  dikson\n",
      "Retrieving weather data for city number 134:  segovia\n",
      "Retrieving weather data for city number 135:  saint-georges\n",
      "Retrieving weather data for city number 136:  katobu\n",
      "amderma not found, skip this one\n",
      "Retrieving weather data for city number 138:  saravan\n",
      "Retrieving weather data for city number 139:  thinadhoo\n",
      "Retrieving weather data for city number 140:  hualmay\n",
      "Retrieving weather data for city number 141:  severo-kurilsk\n",
      "Retrieving weather data for city number 142:  port alfred\n",
      "Retrieving weather data for city number 143:  bedesa\n",
      "Retrieving weather data for city number 144:  new norfolk\n",
      "grand river south east not found, skip this one\n",
      "Retrieving weather data for city number 146:  palana\n",
      "Retrieving weather data for city number 147:  carnarvon\n",
      "Retrieving weather data for city number 148:  ostrovnoy\n",
      "Retrieving weather data for city number 149:  karratha\n",
      "Retrieving weather data for city number 150:  nanortalik\n",
      "Retrieving weather data for city number 151:  tonstad\n",
      "Retrieving weather data for city number 152:  lorengau\n",
      "Retrieving weather data for city number 153:  mount isa\n",
      "Retrieving weather data for city number 154:  iqaluit\n",
      "Retrieving weather data for city number 155:  townsville\n"
     ]
    },
    {
     "name": "stdout",
     "output_type": "stream",
     "text": [
      "Retrieving weather data for city number 156:  bethel\n",
      "Retrieving weather data for city number 157:  port lincoln\n",
      "Retrieving weather data for city number 158:  burnie\n",
      "Retrieving weather data for city number 159:  komatsu\n",
      "Retrieving weather data for city number 160:  pombia\n",
      "Retrieving weather data for city number 161:  veraval\n",
      "Retrieving weather data for city number 162:  bredasdorp\n",
      "Retrieving weather data for city number 163:  coihaique\n",
      "Retrieving weather data for city number 164:  upernavik\n",
      "Retrieving weather data for city number 165:  poum\n",
      "Retrieving weather data for city number 166:  yukamenskoye\n",
      "Retrieving weather data for city number 167:  kismayo\n",
      "Retrieving weather data for city number 168:  panji\n",
      "Retrieving weather data for city number 169:  havoysund\n",
      "Retrieving weather data for city number 170:  avarua\n",
      "Retrieving weather data for city number 171:  hambantota\n",
      "Retrieving weather data for city number 172:  plaster rock\n",
      "Retrieving weather data for city number 173:  abalak\n",
      "Retrieving weather data for city number 174:  mecca\n",
      "Retrieving weather data for city number 175:  acapulco\n",
      "Retrieving weather data for city number 176:  fortuna\n",
      "toliary not found, skip this one\n",
      "paucartambo not found, skip this one\n",
      "Retrieving weather data for city number 179:  pingliang\n",
      "Retrieving weather data for city number 180:  codrington\n",
      "Retrieving weather data for city number 181:  vila velha\n",
      "Retrieving weather data for city number 182:  torbay\n",
      "Retrieving weather data for city number 183:  nambucca heads\n",
      "Retrieving weather data for city number 184:  nhulunbuy\n",
      "agsu not found, skip this one\n",
      "kamenskoye not found, skip this one\n",
      "Retrieving weather data for city number 187:  bilibino\n",
      "Retrieving weather data for city number 188:  senica\n",
      "palabuhanratu not found, skip this one\n",
      "Retrieving weather data for city number 190:  olean\n",
      "Retrieving weather data for city number 191:  kenai\n",
      "Retrieving weather data for city number 192:  mar del plata\n",
      "senmonorom not found, skip this one\n",
      "Retrieving weather data for city number 194:  kruisfontein\n",
      "Retrieving weather data for city number 195:  marang\n",
      "Retrieving weather data for city number 196:  hasaki\n",
      "Retrieving weather data for city number 197:  vikhorevka\n",
      "Retrieving weather data for city number 198:  monywa\n",
      "Retrieving weather data for city number 199:  severodvinsk\n",
      "Retrieving weather data for city number 200:  sao filipe\n",
      "Retrieving weather data for city number 201:  terrace\n",
      "Retrieving weather data for city number 202:  tiksi\n",
      "Retrieving weather data for city number 203:  nelson bay\n",
      "Retrieving weather data for city number 204:  bousse\n",
      "Retrieving weather data for city number 205:  maniitsoq\n",
      "Retrieving weather data for city number 206:  bengkulu\n",
      "Retrieving weather data for city number 207:  la serena\n",
      "Retrieving weather data for city number 208:  pringsewu\n",
      "Retrieving weather data for city number 209:  dasoguz\n",
      "Retrieving weather data for city number 210:  amapa\n",
      "Retrieving weather data for city number 211:  kaitangata\n",
      "Retrieving weather data for city number 212:  tuburan\n",
      "Retrieving weather data for city number 213:  hauterive\n",
      "xiangdong not found, skip this one\n",
      "Retrieving weather data for city number 215:  sidi ali\n",
      "Retrieving weather data for city number 216:  derzhavinsk\n",
      "Retrieving weather data for city number 217:  darhan\n",
      "Retrieving weather data for city number 218:  houma\n",
      "Retrieving weather data for city number 219:  cherskiy\n",
      "Retrieving weather data for city number 220:  sinj\n",
      "Retrieving weather data for city number 221:  nishihara\n",
      "Retrieving weather data for city number 222:  eureka\n",
      "Retrieving weather data for city number 223:  egvekinot\n",
      "sentyabrskiy not found, skip this one\n",
      "Retrieving weather data for city number 225:  okhotsk\n",
      "lolua not found, skip this one\n",
      "Retrieving weather data for city number 227:  olafsvik\n",
      "Retrieving weather data for city number 228:  beringovskiy\n",
      "Retrieving weather data for city number 229:  saint anthony\n",
      "Retrieving weather data for city number 230:  umm lajj\n",
      "Retrieving weather data for city number 231:  ust-maya\n",
      "Retrieving weather data for city number 232:  san patricio\n",
      "Retrieving weather data for city number 233:  bolgatanga\n",
      "Retrieving weather data for city number 234:  kholm\n",
      "Retrieving weather data for city number 235:  roald\n",
      "Retrieving weather data for city number 236:  nchelenge\n",
      "Retrieving weather data for city number 237:  berberati\n",
      "Retrieving weather data for city number 238:  adrar\n",
      "Retrieving weather data for city number 239:  saint-pierre\n",
      "Retrieving weather data for city number 240:  koslan\n",
      "Retrieving weather data for city number 241:  safonovo\n",
      "Retrieving weather data for city number 242:  santa isabel do rio negro\n",
      "Retrieving weather data for city number 243:  pevek\n",
      "Retrieving weather data for city number 244:  matara\n",
      "Retrieving weather data for city number 245:  shira\n",
      "Retrieving weather data for city number 246:  dhidhdhoo\n",
      "Retrieving weather data for city number 247:  celestun\n",
      "Retrieving weather data for city number 248:  florianopolis\n",
      "Retrieving weather data for city number 249:  provideniya\n",
      "Retrieving weather data for city number 250:  narsaq\n",
      "la gaulette not found, skip this one\n",
      "Retrieving weather data for city number 252:  geraldton\n",
      "Retrieving weather data for city number 253:  vestmannaeyjar\n",
      "Retrieving weather data for city number 254:  cadillac\n",
      "Retrieving weather data for city number 255:  shiogama\n",
      "Retrieving weather data for city number 256:  mazagao\n",
      "Retrieving weather data for city number 257:  shimoda\n",
      "Retrieving weather data for city number 258:  nioro\n",
      "Retrieving weather data for city number 259:  wanning\n",
      "Retrieving weather data for city number 260:  tezu\n",
      "Retrieving weather data for city number 261:  joshimath\n",
      "Retrieving weather data for city number 262:  brae\n",
      "Retrieving weather data for city number 263:  kalmunai\n",
      "Retrieving weather data for city number 264:  clearwater\n",
      "Retrieving weather data for city number 265:  sinnamary\n",
      "Retrieving weather data for city number 266:  avera\n",
      "samusu not found, skip this one\n",
      "Retrieving weather data for city number 268:  tomigusuku\n",
      "Retrieving weather data for city number 269:  vila\n",
      "Retrieving weather data for city number 270:  aras\n",
      "Retrieving weather data for city number 271:  yelkhovka\n",
      "Retrieving weather data for city number 272:  bima\n",
      "Retrieving weather data for city number 273:  morondava\n",
      "Retrieving weather data for city number 274:  maldonado\n",
      "samalaeulu not found, skip this one\n",
      "Retrieving weather data for city number 276:  zatoka\n",
      "sataua not found, skip this one\n",
      "Retrieving weather data for city number 278:  sao gabriel da cachoeira\n",
      "Retrieving weather data for city number 279:  westport\n",
      "Retrieving weather data for city number 280:  sangueya\n",
      "Retrieving weather data for city number 281:  sept-iles\n",
      "Retrieving weather data for city number 282:  jvari\n",
      "Retrieving weather data for city number 283:  thompson\n",
      "Retrieving weather data for city number 284:  victoria\n",
      "Retrieving weather data for city number 285:  baguanos\n",
      "Retrieving weather data for city number 286:  birjand\n",
      "Retrieving weather data for city number 287:  bacolod\n",
      "Retrieving weather data for city number 288:  esperance\n",
      "Retrieving weather data for city number 289:  mayo\n",
      "Retrieving weather data for city number 290:  boston\n",
      "Retrieving weather data for city number 291:  sitka\n",
      "Retrieving weather data for city number 292:  skofja loka\n",
      "Retrieving weather data for city number 293:  tuatapere\n",
      "Retrieving weather data for city number 294:  la ronge\n",
      "Retrieving weather data for city number 295:  anadyr\n",
      "Retrieving weather data for city number 296:  zahir pir\n",
      "fevralsk not found, skip this one\n",
      "vaitupu not found, skip this one\n",
      "Retrieving weather data for city number 299:  alice springs\n",
      "Retrieving weather data for city number 300:  maceio\n",
      "Retrieving weather data for city number 301:  broome\n",
      "Retrieving weather data for city number 302:  mount gambier\n",
      "Retrieving weather data for city number 303:  hachinohe\n",
      "Retrieving weather data for city number 304:  taywarah\n",
      "Retrieving weather data for city number 305:  kavieng\n",
      "Retrieving weather data for city number 306:  angoram\n",
      "Retrieving weather data for city number 307:  fort nelson\n",
      "Retrieving weather data for city number 308:  hibbing\n",
      "Retrieving weather data for city number 309:  nagua\n",
      "Retrieving weather data for city number 310:  kungurtug\n"
     ]
    },
    {
     "name": "stdout",
     "output_type": "stream",
     "text": [
      "Retrieving weather data for city number 311:  sompeta\n",
      "borama not found, skip this one\n",
      "Retrieving weather data for city number 313:  san cristobal\n",
      "Retrieving weather data for city number 314:  hobyo\n",
      "Retrieving weather data for city number 315:  luganville\n",
      "Retrieving weather data for city number 316:  luebo\n",
      "Retrieving weather data for city number 317:  the valley\n",
      "Retrieving weather data for city number 318:  finschhafen\n",
      "Retrieving weather data for city number 319:  espinosa\n",
      "Retrieving weather data for city number 320:  santa cruz de tenerife\n",
      "Retrieving weather data for city number 321:  kastamonu\n",
      "Retrieving weather data for city number 322:  norman wells\n",
      "babanusah not found, skip this one\n",
      "Retrieving weather data for city number 324:  santa isabel\n",
      "Retrieving weather data for city number 325:  liverpool\n",
      "Retrieving weather data for city number 326:  zhangye\n",
      "Retrieving weather data for city number 327:  ahipara\n",
      "Retrieving weather data for city number 328:  juba\n",
      "Retrieving weather data for city number 329:  apodi\n",
      "Retrieving weather data for city number 330:  versalles\n",
      "Retrieving weather data for city number 331:  sobolevo\n",
      "papantla not found, skip this one\n",
      "Retrieving weather data for city number 333:  lagoa\n",
      "Retrieving weather data for city number 334:  hailar\n",
      "Retrieving weather data for city number 335:  uyemskiy\n",
      "Retrieving weather data for city number 336:  pacific grove\n",
      "Retrieving weather data for city number 337:  uruzgan\n",
      "Retrieving weather data for city number 338:  salalah\n",
      "Retrieving weather data for city number 339:  carbondale\n",
      "Retrieving weather data for city number 340:  tukrah\n",
      "Retrieving weather data for city number 341:  fayetteville\n",
      "marcona not found, skip this one\n",
      "Retrieving weather data for city number 343:  penzance\n",
      "tubruq not found, skip this one\n",
      "Retrieving weather data for city number 345:  bubaque\n",
      "Retrieving weather data for city number 346:  samana\n",
      "Retrieving weather data for city number 347:  vicente guerrero\n",
      "Retrieving weather data for city number 348:  deputatskiy\n",
      "Retrieving weather data for city number 349:  aklavik\n",
      "Retrieving weather data for city number 350:  tessalit\n",
      "Retrieving weather data for city number 351:  alugan\n",
      "Retrieving weather data for city number 352:  fairbanks\n",
      "Retrieving weather data for city number 353:  arroyo\n",
      "Retrieving weather data for city number 354:  mahibadhoo\n",
      "Retrieving weather data for city number 355:  pilar\n",
      "Retrieving weather data for city number 356:  clyde river\n",
      "Retrieving weather data for city number 357:  teonthar\n",
      "Retrieving weather data for city number 358:  trat\n",
      "Retrieving weather data for city number 359:  okha\n",
      "Retrieving weather data for city number 360:  ankazoabo\n",
      "Retrieving weather data for city number 361:  anchorage\n",
      "Retrieving weather data for city number 362:  tashtyp\n",
      "Retrieving weather data for city number 363:  lichuan\n",
      "Retrieving weather data for city number 364:  batsfjord\n",
      "barsbuttel not found, skip this one\n",
      "Retrieving weather data for city number 366:  am timan\n",
      "port-de-paix not found, skip this one\n",
      "Retrieving weather data for city number 368:  iskateley\n",
      "Retrieving weather data for city number 369:  russell\n",
      "Retrieving weather data for city number 370:  sao miguel do iguacu\n",
      "Retrieving weather data for city number 371:  omsukchan\n",
      "Retrieving weather data for city number 372:  kununurra\n",
      "Retrieving weather data for city number 373:  channel-port aux basques\n",
      "Retrieving weather data for city number 374:  puebloviejo\n",
      "Retrieving weather data for city number 375:  patamundai\n",
      "Retrieving weather data for city number 376:  puerto escondido\n",
      "Retrieving weather data for city number 377:  ntungamo\n",
      "Retrieving weather data for city number 378:  seoul\n",
      "Retrieving weather data for city number 379:  naze\n",
      "Retrieving weather data for city number 380:  greenwood\n",
      "Retrieving weather data for city number 381:  qaqortoq\n",
      "Retrieving weather data for city number 382:  kashi\n",
      "Retrieving weather data for city number 383:  lubango\n",
      "Retrieving weather data for city number 384:  toamasina\n",
      "Retrieving weather data for city number 385:  pavlodar\n",
      "Retrieving weather data for city number 386:  areka\n",
      "Retrieving weather data for city number 387:  yagodnoye\n",
      "Retrieving weather data for city number 388:  hervey bay\n",
      "Retrieving weather data for city number 389:  chernyshevskiy\n",
      "Retrieving weather data for city number 390:  chengde\n",
      "Retrieving weather data for city number 391:  constitucion\n",
      "burica not found, skip this one\n",
      "Retrieving weather data for city number 393:  katsuura\n",
      "Retrieving weather data for city number 394:  saskylakh\n",
      "Retrieving weather data for city number 395:  gidam\n",
      "Retrieving weather data for city number 396:  cayenne\n",
      "Retrieving weather data for city number 397:  san quintin\n",
      "Retrieving weather data for city number 398:  panacan\n",
      "Retrieving weather data for city number 399:  tommot\n",
      "Retrieving weather data for city number 400:  mirnyy\n",
      "Retrieving weather data for city number 401:  qasigiannguit\n",
      "Retrieving weather data for city number 402:  lagunas\n",
      "Retrieving weather data for city number 403:  borogontsy\n",
      "Retrieving weather data for city number 404:  chapais\n",
      "Retrieving weather data for city number 405:  pangnirtung\n",
      "Retrieving weather data for city number 406:  phayao\n",
      "Retrieving weather data for city number 407:  yulara\n",
      "Retrieving weather data for city number 408:  bahia honda\n",
      "Retrieving weather data for city number 409:  kevsala\n",
      "Retrieving weather data for city number 410:  berlin\n",
      "Retrieving weather data for city number 411:  srednekolymsk\n",
      "Retrieving weather data for city number 412:  taggia\n",
      "armacao dos buzios not found, skip this one\n",
      "Retrieving weather data for city number 414:  pisco\n",
      "Retrieving weather data for city number 415:  puerto suarez\n",
      "skagastrond not found, skip this one\n",
      "Retrieving weather data for city number 417:  kushima\n",
      "Retrieving weather data for city number 418:  akyab\n",
      "Retrieving weather data for city number 419:  murgud\n",
      "Retrieving weather data for city number 420:  kavaratti\n",
      "Retrieving weather data for city number 421:  magadan\n",
      "Retrieving weather data for city number 422:  traralgon\n",
      "Retrieving weather data for city number 423:  rantauprapat\n",
      "Retrieving weather data for city number 424:  maridi\n",
      "Retrieving weather data for city number 425:  verkhovyna\n",
      "Retrieving weather data for city number 426:  boende\n",
      "Retrieving weather data for city number 427:  daru\n",
      "Retrieving weather data for city number 428:  baruun-urt\n",
      "Retrieving weather data for city number 429:  ribeira grande\n",
      "Retrieving weather data for city number 430:  batemans bay\n",
      "Retrieving weather data for city number 431:  kudat\n",
      "Retrieving weather data for city number 432:  kodinsk\n",
      "Retrieving weather data for city number 433:  san pedro\n",
      "Retrieving weather data for city number 434:  dana point\n",
      "Retrieving weather data for city number 435:  jining\n",
      "Retrieving weather data for city number 436:  kloulklubed\n",
      "Retrieving weather data for city number 437:  atherton\n",
      "Retrieving weather data for city number 438:  sangar\n",
      "Retrieving weather data for city number 439:  serpa\n",
      "Retrieving weather data for city number 440:  mana\n",
      "bolungarvik not found, skip this one\n",
      "Retrieving weather data for city number 442:  lompoc\n",
      "Retrieving weather data for city number 443:  navalmoral de la mata\n",
      "Retrieving weather data for city number 444:  presidencia roque saenz pena\n",
      "Retrieving weather data for city number 445:  doha\n",
      "Retrieving weather data for city number 446:  houston\n",
      "Retrieving weather data for city number 447:  bowen\n",
      "Retrieving weather data for city number 448:  kahului\n",
      "Retrieving weather data for city number 449:  duderstadt\n",
      "Retrieving weather data for city number 450:  huarmey\n",
      "Retrieving weather data for city number 451:  matay\n",
      "Retrieving weather data for city number 452:  vanimo\n",
      "Retrieving weather data for city number 453:  zeya\n",
      "Retrieving weather data for city number 454:  samarai\n",
      "Retrieving weather data for city number 455:  kulunda\n",
      "Retrieving weather data for city number 456:  anton lizardo\n",
      "Retrieving weather data for city number 457:  porto nacional\n",
      "Retrieving weather data for city number 458:  surt\n",
      "Retrieving weather data for city number 459:  muscat\n",
      "bengkalis not found, skip this one\n",
      "Retrieving weather data for city number 461:  anito\n",
      "Retrieving weather data for city number 462:  aykhal\n"
     ]
    },
    {
     "name": "stdout",
     "output_type": "stream",
     "text": [
      "Retrieving weather data for city number 463:  comodoro rivadavia\n",
      "Retrieving weather data for city number 464:  yangjiang\n",
      "Retrieving weather data for city number 465:  west wendover\n",
      "Retrieving weather data for city number 466:  rabat\n",
      "Retrieving weather data for city number 467:  huanren\n",
      "Retrieving weather data for city number 468:  balao\n",
      "Retrieving weather data for city number 469:  genappe\n",
      "Retrieving weather data for city number 470:  byron bay\n",
      "Retrieving weather data for city number 471:  jacareacanga\n",
      "Retrieving weather data for city number 472:  pathein\n",
      "Retrieving weather data for city number 473:  sinjai\n",
      "Retrieving weather data for city number 474:  chino valley\n",
      "Retrieving weather data for city number 475:  pudozh\n",
      "Retrieving weather data for city number 476:  mahanoro\n",
      "Retrieving weather data for city number 477:  aswan\n",
      "Retrieving weather data for city number 478:  thanh hoa\n",
      "Retrieving weather data for city number 479:  adamas\n",
      "bargal not found, skip this one\n",
      "formoso do araguaia not found, skip this one\n",
      "Retrieving weather data for city number 482:  skjervoy\n",
      "Retrieving weather data for city number 483:  auki\n",
      "Retrieving weather data for city number 484:  bozeman\n",
      "Retrieving weather data for city number 485:  finnsnes\n",
      "Retrieving weather data for city number 486:  rio grande\n",
      "Retrieving weather data for city number 487:  marakkanam\n",
      "Retrieving weather data for city number 488:  ust-kan\n",
      "Retrieving weather data for city number 489:  honningsvag\n",
      "Retrieving weather data for city number 490:  zemio\n",
      "Retrieving weather data for city number 491:  iona\n",
      "Retrieving weather data for city number 492:  nouadhibou\n",
      "Retrieving weather data for city number 493:  smithers\n",
      "Retrieving weather data for city number 494:  hammerfest\n",
      "Retrieving weather data for city number 495:  copparo\n",
      "Retrieving weather data for city number 496:  buala\n",
      "Retrieving weather data for city number 497:  mwense\n",
      "Retrieving weather data for city number 498:  la rioja\n",
      "Retrieving weather data for city number 499:  uusikaupunki\n",
      "oreanda not found, skip this one\n",
      "Retrieving weather data for city number 501:  falun\n",
      "Retrieving weather data for city number 502:  trelew\n",
      "Retrieving weather data for city number 503:  zheleznogorsk-ilimskiy\n",
      "Retrieving weather data for city number 504:  gutierrez\n",
      "Retrieving weather data for city number 505:  zholymbet\n",
      "Retrieving weather data for city number 506:  tevaitoa\n",
      "Retrieving weather data for city number 507:  goure\n",
      "Retrieving weather data for city number 508:  magomeni\n",
      "chikoy not found, skip this one\n",
      "Retrieving weather data for city number 510:  dingzhou\n",
      "Retrieving weather data for city number 511:  makakilo city\n",
      "Retrieving weather data for city number 512:  tadine\n",
      "Retrieving weather data for city number 513:  andilamena\n",
      "Retrieving weather data for city number 514:  agadez\n",
      "Retrieving weather data for city number 515:  kutum\n",
      "inderborskiy not found, skip this one\n",
      "Retrieving weather data for city number 517:  solnechnyy\n",
      "Retrieving weather data for city number 518:  murray bridge\n",
      "Retrieving weather data for city number 519:  guilin\n",
      "Retrieving weather data for city number 520:  kharan\n",
      "wanderlandia not found, skip this one\n",
      "Retrieving weather data for city number 522:  flin flon\n",
      "Retrieving weather data for city number 523:  mormugao\n",
      "Retrieving weather data for city number 524:  salina cruz\n",
      "Retrieving weather data for city number 525:  ambon\n",
      "Retrieving weather data for city number 526:  grass valley\n",
      "Retrieving weather data for city number 527:  garlasco\n",
      "Retrieving weather data for city number 528:  karsiyang\n",
      "Retrieving weather data for city number 529:  santa luzia\n",
      "Retrieving weather data for city number 530:  mizdah\n",
      "Retrieving weather data for city number 531:  tocopilla\n",
      "Retrieving weather data for city number 532:  muromtsevo\n",
      "Retrieving weather data for city number 533:  praia da vitoria\n",
      "Retrieving weather data for city number 534:  kiunga\n",
      "tabiauea not found, skip this one\n",
      "Retrieving weather data for city number 536:  tautira\n",
      "zhanatas not found, skip this one\n",
      "Retrieving weather data for city number 538:  wajir\n",
      "Retrieving weather data for city number 539:  kudahuvadhoo\n",
      "Retrieving weather data for city number 540:  el alto\n",
      "Retrieving weather data for city number 541:  lasa\n",
      "Retrieving weather data for city number 542:  bela\n",
      "Retrieving weather data for city number 543:  praya\n",
      "Retrieving weather data for city number 544:  mao\n",
      "rawannawi not found, skip this one\n",
      "Retrieving weather data for city number 546:  mandalgovi\n",
      "Retrieving weather data for city number 547:  rocha\n",
      "Retrieving weather data for city number 548:  chimbote\n",
      "Retrieving weather data for city number 549:  buraydah\n",
      "Retrieving weather data for city number 550:  taltal\n",
      "Retrieving weather data for city number 551:  calafell\n",
      "Retrieving weather data for city number 552:  staraya poltavka\n",
      "Retrieving weather data for city number 553:  rabo de peixe\n",
      "Retrieving weather data for city number 554:  randazzo\n",
      "Retrieving weather data for city number 555:  stornoway\n",
      "louisbourg not found, skip this one\n",
      "Retrieving weather data for city number 557:  quatre cocos\n",
      "Retrieving weather data for city number 558:  galeana\n",
      "Retrieving weather data for city number 559:  ouro preto\n",
      "Retrieving weather data for city number 560:  idar\n",
      "Retrieving weather data for city number 561:  talaya\n",
      "Retrieving weather data for city number 562:  arroio grande\n",
      "Retrieving weather data for city number 563:  lander\n",
      "Retrieving weather data for city number 564:  kerman\n",
      "Retrieving weather data for city number 565:  taft\n",
      "dujuma not found, skip this one\n",
      "Retrieving weather data for city number 567:  lahti\n",
      "Retrieving weather data for city number 568:  palmer\n",
      "Retrieving weather data for city number 569:  reconquista\n",
      "Retrieving weather data for city number 570:  bathsheba\n",
      "Retrieving weather data for city number 571:  tyrma\n",
      "Retrieving weather data for city number 572:  mitu\n",
      "Retrieving weather data for city number 573:  yenagoa\n",
      "Retrieving weather data for city number 574:  gritsovskiy\n",
      "Retrieving weather data for city number 575:  boa vista\n",
      "Retrieving weather data for city number 576:  manokwari\n",
      "Retrieving weather data for city number 577:  marawi\n",
      "Retrieving weather data for city number 578:  kirakira\n",
      "Retrieving weather data for city number 579:  atasu\n",
      "Retrieving weather data for city number 580:  peniche\n",
      "Retrieving weather data for city number 581:  zhigansk\n",
      "Retrieving weather data for city number 582:  nha trang\n",
      "Retrieving weather data for city number 583:  berlevag\n",
      "Retrieving weather data for city number 584:  betong\n",
      "Retrieving weather data for city number 585:  farim\n",
      "Retrieving weather data for city number 586:  komsomolskiy\n",
      "Retrieving weather data for city number 587:  galdar\n",
      "Retrieving weather data for city number 588:  sawakin\n",
      "Retrieving weather data for city number 589:  san javier\n",
      "Retrieving weather data for city number 590:  humaita\n",
      "saleaula not found, skip this one\n",
      "Retrieving weather data for city number 592:  voh\n",
      "Retrieving weather data for city number 593:  darnah\n",
      "Retrieving weather data for city number 594:  kerchevskiy\n",
      "Retrieving weather data for city number 595:  grindavik\n",
      "Retrieving weather data for city number 596:  poso\n",
      "Retrieving weather data for city number 597:  vardo\n",
      "Retrieving weather data for city number 598:  domoni\n",
      "Retrieving weather data for city number 599:  port-gentil\n"
     ]
    }
   ],
   "source": [
    "city_names = cities\n",
    "city_weather = []\n",
    "weather = {'City':[], \n",
    "           'Lat':[], \n",
    "            'Lng':[],\n",
    "            'Max Temp':[],\n",
    "            'Humidity':[],\n",
    "           'Cloudiness':[],\n",
    "           'Wind Speed':[],\n",
    "           'Country':[],\n",
    "           'Date':[]\n",
    "             }\n",
    "i=0\n",
    "for city_name in city_names:\n",
    "    query_url = f\"http://api.openweathermap.org/data/2.5/weather?q={city_name}&units=imperial&appid={weather_api_key}\"\n",
    "    result = requests.get(query_url).json()\n",
    "    #print(result)\n",
    "    \n",
    "    if 'coord' in result:  \n",
    "        \n",
    "        city_weather.append(result)\n",
    "        print(f\"Retrieving weather data for city number {city_names.index(city_name)+1}:  {city_name}\")\n",
    "        number = city_names.index(city_name)+1\n",
    "        \n",
    "        name = city_weather[i]['name']\n",
    "        lat = city_weather[i]['coord']['lat']\n",
    "        lng = city_weather[i]['coord']['lon']\n",
    "        cur_temp = city_weather[i]['main']['temp']\n",
    "        max_temp = city_weather[i]['main']['temp_max']\n",
    "        hum = city_weather[i]['main']['humidity']\n",
    "        clouds = city_weather[i]['clouds']['all']\n",
    "        wind = city_weather[i]['wind']['speed']\n",
    "        country = city_weather[i]['sys']['country']\n",
    "        dt = city_weather[i]['dt']\n",
    "    \n",
    "        weather['City'].append(name)\n",
    "        weather['Lat'].append(lat) \n",
    "        weather['Lng'].append(lng) \n",
    "        weather['Max Temp'].append(max_temp) \n",
    "        weather['Humidity'].append(hum) \n",
    "        weather['Cloudiness'].append(clouds) \n",
    "        weather['Country'].append(country) \n",
    "        weather['Wind Speed'].append(wind)\n",
    "        weather['Date'].append(dt) \n",
    "        i+=1\n",
    "    \n",
    "    else: \n",
    "        print(f\"{city_name} not found, skip this one\")"
   ]
  },
  {
   "cell_type": "markdown",
   "metadata": {},
   "source": [
    "### Convert Raw Data to DataFrame\n",
    "* Export the city data into a .csv.\n",
    "* Display the DataFrame"
   ]
  },
  {
   "cell_type": "code",
   "execution_count": 5,
   "metadata": {},
   "outputs": [
    {
     "data": {
      "text/html": [
       "<div>\n",
       "<style scoped>\n",
       "    .dataframe tbody tr th:only-of-type {\n",
       "        vertical-align: middle;\n",
       "    }\n",
       "\n",
       "    .dataframe tbody tr th {\n",
       "        vertical-align: top;\n",
       "    }\n",
       "\n",
       "    .dataframe thead th {\n",
       "        text-align: right;\n",
       "    }\n",
       "</style>\n",
       "<table border=\"1\" class=\"dataframe\">\n",
       "  <thead>\n",
       "    <tr style=\"text-align: right;\">\n",
       "      <th></th>\n",
       "      <th>City</th>\n",
       "      <th>Lat</th>\n",
       "      <th>Lng</th>\n",
       "      <th>Max Temp</th>\n",
       "      <th>Humidity</th>\n",
       "      <th>Cloudiness</th>\n",
       "      <th>Wind Speed</th>\n",
       "      <th>Country</th>\n",
       "      <th>Date</th>\n",
       "    </tr>\n",
       "  </thead>\n",
       "  <tbody>\n",
       "    <tr>\n",
       "      <th>0</th>\n",
       "      <td>Klaksvík</td>\n",
       "      <td>62.2266</td>\n",
       "      <td>-6.5890</td>\n",
       "      <td>42.80</td>\n",
       "      <td>65</td>\n",
       "      <td>40</td>\n",
       "      <td>18.41</td>\n",
       "      <td>FO</td>\n",
       "      <td>1620748028</td>\n",
       "    </tr>\n",
       "    <tr>\n",
       "      <th>1</th>\n",
       "      <td>Coquimbo</td>\n",
       "      <td>-29.9533</td>\n",
       "      <td>-71.3436</td>\n",
       "      <td>53.60</td>\n",
       "      <td>94</td>\n",
       "      <td>90</td>\n",
       "      <td>5.75</td>\n",
       "      <td>CL</td>\n",
       "      <td>1620748028</td>\n",
       "    </tr>\n",
       "    <tr>\n",
       "      <th>2</th>\n",
       "      <td>Lüderitz</td>\n",
       "      <td>-26.6481</td>\n",
       "      <td>15.1594</td>\n",
       "      <td>72.59</td>\n",
       "      <td>45</td>\n",
       "      <td>0</td>\n",
       "      <td>5.59</td>\n",
       "      <td>NA</td>\n",
       "      <td>1620748029</td>\n",
       "    </tr>\n",
       "    <tr>\n",
       "      <th>3</th>\n",
       "      <td>Matagami</td>\n",
       "      <td>49.7502</td>\n",
       "      <td>-77.6328</td>\n",
       "      <td>44.60</td>\n",
       "      <td>70</td>\n",
       "      <td>1</td>\n",
       "      <td>14.97</td>\n",
       "      <td>CA</td>\n",
       "      <td>1620748029</td>\n",
       "    </tr>\n",
       "    <tr>\n",
       "      <th>4</th>\n",
       "      <td>Mahébourg</td>\n",
       "      <td>-20.4081</td>\n",
       "      <td>57.7000</td>\n",
       "      <td>75.20</td>\n",
       "      <td>78</td>\n",
       "      <td>20</td>\n",
       "      <td>4.61</td>\n",
       "      <td>MU</td>\n",
       "      <td>1620748029</td>\n",
       "    </tr>\n",
       "    <tr>\n",
       "      <th>...</th>\n",
       "      <td>...</td>\n",
       "      <td>...</td>\n",
       "      <td>...</td>\n",
       "      <td>...</td>\n",
       "      <td>...</td>\n",
       "      <td>...</td>\n",
       "      <td>...</td>\n",
       "      <td>...</td>\n",
       "      <td>...</td>\n",
       "    </tr>\n",
       "    <tr>\n",
       "      <th>542</th>\n",
       "      <td>Grindavik</td>\n",
       "      <td>63.8424</td>\n",
       "      <td>-22.4338</td>\n",
       "      <td>41.00</td>\n",
       "      <td>48</td>\n",
       "      <td>20</td>\n",
       "      <td>12.66</td>\n",
       "      <td>IS</td>\n",
       "      <td>1620748193</td>\n",
       "    </tr>\n",
       "    <tr>\n",
       "      <th>543</th>\n",
       "      <td>Poso</td>\n",
       "      <td>-1.3959</td>\n",
       "      <td>120.7524</td>\n",
       "      <td>76.53</td>\n",
       "      <td>83</td>\n",
       "      <td>77</td>\n",
       "      <td>5.95</td>\n",
       "      <td>ID</td>\n",
       "      <td>1620748154</td>\n",
       "    </tr>\n",
       "    <tr>\n",
       "      <th>544</th>\n",
       "      <td>Vardø</td>\n",
       "      <td>70.3705</td>\n",
       "      <td>31.1107</td>\n",
       "      <td>37.40</td>\n",
       "      <td>93</td>\n",
       "      <td>75</td>\n",
       "      <td>8.05</td>\n",
       "      <td>NO</td>\n",
       "      <td>1620748193</td>\n",
       "    </tr>\n",
       "    <tr>\n",
       "      <th>545</th>\n",
       "      <td>Domoni</td>\n",
       "      <td>-12.2569</td>\n",
       "      <td>44.5319</td>\n",
       "      <td>78.12</td>\n",
       "      <td>71</td>\n",
       "      <td>75</td>\n",
       "      <td>11.01</td>\n",
       "      <td>KM</td>\n",
       "      <td>1620748193</td>\n",
       "    </tr>\n",
       "    <tr>\n",
       "      <th>546</th>\n",
       "      <td>Port-Gentil</td>\n",
       "      <td>-0.7193</td>\n",
       "      <td>8.7815</td>\n",
       "      <td>87.80</td>\n",
       "      <td>70</td>\n",
       "      <td>20</td>\n",
       "      <td>12.66</td>\n",
       "      <td>GA</td>\n",
       "      <td>1620748194</td>\n",
       "    </tr>\n",
       "  </tbody>\n",
       "</table>\n",
       "<p>547 rows × 9 columns</p>\n",
       "</div>"
      ],
      "text/plain": [
       "            City      Lat       Lng  Max Temp  Humidity  Cloudiness  \\\n",
       "0       Klaksvík  62.2266   -6.5890     42.80        65          40   \n",
       "1       Coquimbo -29.9533  -71.3436     53.60        94          90   \n",
       "2       Lüderitz -26.6481   15.1594     72.59        45           0   \n",
       "3       Matagami  49.7502  -77.6328     44.60        70           1   \n",
       "4      Mahébourg -20.4081   57.7000     75.20        78          20   \n",
       "..           ...      ...       ...       ...       ...         ...   \n",
       "542    Grindavik  63.8424  -22.4338     41.00        48          20   \n",
       "543         Poso  -1.3959  120.7524     76.53        83          77   \n",
       "544        Vardø  70.3705   31.1107     37.40        93          75   \n",
       "545       Domoni -12.2569   44.5319     78.12        71          75   \n",
       "546  Port-Gentil  -0.7193    8.7815     87.80        70          20   \n",
       "\n",
       "     Wind Speed Country        Date  \n",
       "0         18.41      FO  1620748028  \n",
       "1          5.75      CL  1620748028  \n",
       "2          5.59      NA  1620748029  \n",
       "3         14.97      CA  1620748029  \n",
       "4          4.61      MU  1620748029  \n",
       "..          ...     ...         ...  \n",
       "542       12.66      IS  1620748193  \n",
       "543        5.95      ID  1620748154  \n",
       "544        8.05      NO  1620748193  \n",
       "545       11.01      KM  1620748193  \n",
       "546       12.66      GA  1620748194  \n",
       "\n",
       "[547 rows x 9 columns]"
      ]
     },
     "execution_count": 5,
     "metadata": {},
     "output_type": "execute_result"
    }
   ],
   "source": [
    "df_weather = pd.DataFrame(weather)\n",
    "df_weather.to_csv(\"output_data/cities_updated.csv\", index = False)\n",
    "df_weather"
   ]
  },
  {
   "cell_type": "code",
   "execution_count": 6,
   "metadata": {},
   "outputs": [
    {
     "data": {
      "text/html": [
       "<div>\n",
       "<style scoped>\n",
       "    .dataframe tbody tr th:only-of-type {\n",
       "        vertical-align: middle;\n",
       "    }\n",
       "\n",
       "    .dataframe tbody tr th {\n",
       "        vertical-align: top;\n",
       "    }\n",
       "\n",
       "    .dataframe thead th {\n",
       "        text-align: right;\n",
       "    }\n",
       "</style>\n",
       "<table border=\"1\" class=\"dataframe\">\n",
       "  <thead>\n",
       "    <tr style=\"text-align: right;\">\n",
       "      <th></th>\n",
       "      <th>Lat</th>\n",
       "      <th>Lng</th>\n",
       "      <th>Max Temp</th>\n",
       "      <th>Humidity</th>\n",
       "      <th>Cloudiness</th>\n",
       "      <th>Wind Speed</th>\n",
       "      <th>Date</th>\n",
       "    </tr>\n",
       "  </thead>\n",
       "  <tbody>\n",
       "    <tr>\n",
       "      <th>count</th>\n",
       "      <td>547.000000</td>\n",
       "      <td>547.000000</td>\n",
       "      <td>547.000000</td>\n",
       "      <td>547.000000</td>\n",
       "      <td>547.000000</td>\n",
       "      <td>547.000000</td>\n",
       "      <td>5.470000e+02</td>\n",
       "    </tr>\n",
       "    <tr>\n",
       "      <th>mean</th>\n",
       "      <td>21.358023</td>\n",
       "      <td>22.419764</td>\n",
       "      <td>64.542761</td>\n",
       "      <td>67.595978</td>\n",
       "      <td>52.027422</td>\n",
       "      <td>8.277294</td>\n",
       "      <td>1.620748e+09</td>\n",
       "    </tr>\n",
       "    <tr>\n",
       "      <th>std</th>\n",
       "      <td>32.886857</td>\n",
       "      <td>90.278438</td>\n",
       "      <td>19.263295</td>\n",
       "      <td>22.772876</td>\n",
       "      <td>37.381720</td>\n",
       "      <td>5.369233</td>\n",
       "      <td>7.275030e+01</td>\n",
       "    </tr>\n",
       "    <tr>\n",
       "      <th>min</th>\n",
       "      <td>-54.800000</td>\n",
       "      <td>-179.166700</td>\n",
       "      <td>5.000000</td>\n",
       "      <td>4.000000</td>\n",
       "      <td>0.000000</td>\n",
       "      <td>0.090000</td>\n",
       "      <td>1.620748e+09</td>\n",
       "    </tr>\n",
       "    <tr>\n",
       "      <th>25%</th>\n",
       "      <td>-5.354100</td>\n",
       "      <td>-54.007250</td>\n",
       "      <td>51.900000</td>\n",
       "      <td>52.500000</td>\n",
       "      <td>15.500000</td>\n",
       "      <td>4.250000</td>\n",
       "      <td>1.620748e+09</td>\n",
       "    </tr>\n",
       "    <tr>\n",
       "      <th>50%</th>\n",
       "      <td>25.519800</td>\n",
       "      <td>25.136100</td>\n",
       "      <td>66.990000</td>\n",
       "      <td>73.000000</td>\n",
       "      <td>58.000000</td>\n",
       "      <td>6.910000</td>\n",
       "      <td>1.620748e+09</td>\n",
       "    </tr>\n",
       "    <tr>\n",
       "      <th>75%</th>\n",
       "      <td>49.343350</td>\n",
       "      <td>102.852950</td>\n",
       "      <td>78.800000</td>\n",
       "      <td>85.000000</td>\n",
       "      <td>90.000000</td>\n",
       "      <td>11.500000</td>\n",
       "      <td>1.620748e+09</td>\n",
       "    </tr>\n",
       "    <tr>\n",
       "      <th>max</th>\n",
       "      <td>78.218600</td>\n",
       "      <td>179.316700</td>\n",
       "      <td>108.370000</td>\n",
       "      <td>100.000000</td>\n",
       "      <td>100.000000</td>\n",
       "      <td>28.770000</td>\n",
       "      <td>1.620748e+09</td>\n",
       "    </tr>\n",
       "  </tbody>\n",
       "</table>\n",
       "</div>"
      ],
      "text/plain": [
       "              Lat         Lng    Max Temp    Humidity  Cloudiness  Wind Speed  \\\n",
       "count  547.000000  547.000000  547.000000  547.000000  547.000000  547.000000   \n",
       "mean    21.358023   22.419764   64.542761   67.595978   52.027422    8.277294   \n",
       "std     32.886857   90.278438   19.263295   22.772876   37.381720    5.369233   \n",
       "min    -54.800000 -179.166700    5.000000    4.000000    0.000000    0.090000   \n",
       "25%     -5.354100  -54.007250   51.900000   52.500000   15.500000    4.250000   \n",
       "50%     25.519800   25.136100   66.990000   73.000000   58.000000    6.910000   \n",
       "75%     49.343350  102.852950   78.800000   85.000000   90.000000   11.500000   \n",
       "max     78.218600  179.316700  108.370000  100.000000  100.000000   28.770000   \n",
       "\n",
       "               Date  \n",
       "count  5.470000e+02  \n",
       "mean   1.620748e+09  \n",
       "std    7.275030e+01  \n",
       "min    1.620748e+09  \n",
       "25%    1.620748e+09  \n",
       "50%    1.620748e+09  \n",
       "75%    1.620748e+09  \n",
       "max    1.620748e+09  "
      ]
     },
     "execution_count": 6,
     "metadata": {},
     "output_type": "execute_result"
    }
   ],
   "source": [
    "df_weather.describe()"
   ]
  },
  {
   "cell_type": "markdown",
   "metadata": {},
   "source": [
    "## Inspect the data and remove the cities where the humidity > 100%.\n",
    "----\n",
    "Skip this step if there are no cities that have humidity > 100%. "
   ]
  },
  {
   "cell_type": "code",
   "execution_count": 6,
   "metadata": {},
   "outputs": [
    {
     "data": {
      "text/html": [
       "<div>\n",
       "<style scoped>\n",
       "    .dataframe tbody tr th:only-of-type {\n",
       "        vertical-align: middle;\n",
       "    }\n",
       "\n",
       "    .dataframe tbody tr th {\n",
       "        vertical-align: top;\n",
       "    }\n",
       "\n",
       "    .dataframe thead th {\n",
       "        text-align: right;\n",
       "    }\n",
       "</style>\n",
       "<table border=\"1\" class=\"dataframe\">\n",
       "  <thead>\n",
       "    <tr style=\"text-align: right;\">\n",
       "      <th></th>\n",
       "      <th>Lat</th>\n",
       "      <th>Lng</th>\n",
       "      <th>Max Temp</th>\n",
       "      <th>Humidity</th>\n",
       "      <th>Cloudiness</th>\n",
       "      <th>Wind Speed</th>\n",
       "      <th>Date</th>\n",
       "    </tr>\n",
       "  </thead>\n",
       "  <tbody>\n",
       "    <tr>\n",
       "      <th>count</th>\n",
       "      <td>550.000000</td>\n",
       "      <td>550.000000</td>\n",
       "      <td>550.000000</td>\n",
       "      <td>550.000000</td>\n",
       "      <td>550.000000</td>\n",
       "      <td>550.000000</td>\n",
       "      <td>5.500000e+02</td>\n",
       "    </tr>\n",
       "    <tr>\n",
       "      <th>mean</th>\n",
       "      <td>19.973545</td>\n",
       "      <td>17.124400</td>\n",
       "      <td>58.331400</td>\n",
       "      <td>67.890909</td>\n",
       "      <td>52.141818</td>\n",
       "      <td>8.544800</td>\n",
       "      <td>1.585764e+09</td>\n",
       "    </tr>\n",
       "    <tr>\n",
       "      <th>std</th>\n",
       "      <td>33.284840</td>\n",
       "      <td>91.595451</td>\n",
       "      <td>25.795297</td>\n",
       "      <td>20.864881</td>\n",
       "      <td>35.766469</td>\n",
       "      <td>6.078869</td>\n",
       "      <td>5.539674e+01</td>\n",
       "    </tr>\n",
       "    <tr>\n",
       "      <th>min</th>\n",
       "      <td>-54.800000</td>\n",
       "      <td>-179.170000</td>\n",
       "      <td>-11.340000</td>\n",
       "      <td>9.000000</td>\n",
       "      <td>0.000000</td>\n",
       "      <td>0.160000</td>\n",
       "      <td>1.585764e+09</td>\n",
       "    </tr>\n",
       "    <tr>\n",
       "      <th>25%</th>\n",
       "      <td>-8.077500</td>\n",
       "      <td>-64.627500</td>\n",
       "      <td>42.800000</td>\n",
       "      <td>55.000000</td>\n",
       "      <td>20.000000</td>\n",
       "      <td>4.525000</td>\n",
       "      <td>1.585764e+09</td>\n",
       "    </tr>\n",
       "    <tr>\n",
       "      <th>50%</th>\n",
       "      <td>23.630000</td>\n",
       "      <td>19.635000</td>\n",
       "      <td>64.940000</td>\n",
       "      <td>72.000000</td>\n",
       "      <td>57.000000</td>\n",
       "      <td>7.325000</td>\n",
       "      <td>1.585764e+09</td>\n",
       "    </tr>\n",
       "    <tr>\n",
       "      <th>75%</th>\n",
       "      <td>48.672500</td>\n",
       "      <td>97.350000</td>\n",
       "      <td>78.800000</td>\n",
       "      <td>83.000000</td>\n",
       "      <td>86.750000</td>\n",
       "      <td>11.410000</td>\n",
       "      <td>1.585764e+09</td>\n",
       "    </tr>\n",
       "    <tr>\n",
       "      <th>max</th>\n",
       "      <td>78.220000</td>\n",
       "      <td>179.320000</td>\n",
       "      <td>102.200000</td>\n",
       "      <td>100.000000</td>\n",
       "      <td>100.000000</td>\n",
       "      <td>46.080000</td>\n",
       "      <td>1.585764e+09</td>\n",
       "    </tr>\n",
       "  </tbody>\n",
       "</table>\n",
       "</div>"
      ],
      "text/plain": [
       "              Lat         Lng    Max Temp    Humidity  Cloudiness  Wind Speed  \\\n",
       "count  550.000000  550.000000  550.000000  550.000000  550.000000  550.000000   \n",
       "mean    19.973545   17.124400   58.331400   67.890909   52.141818    8.544800   \n",
       "std     33.284840   91.595451   25.795297   20.864881   35.766469    6.078869   \n",
       "min    -54.800000 -179.170000  -11.340000    9.000000    0.000000    0.160000   \n",
       "25%     -8.077500  -64.627500   42.800000   55.000000   20.000000    4.525000   \n",
       "50%     23.630000   19.635000   64.940000   72.000000   57.000000    7.325000   \n",
       "75%     48.672500   97.350000   78.800000   83.000000   86.750000   11.410000   \n",
       "max     78.220000  179.320000  102.200000  100.000000  100.000000   46.080000   \n",
       "\n",
       "               Date  \n",
       "count  5.500000e+02  \n",
       "mean   1.585764e+09  \n",
       "std    5.539674e+01  \n",
       "min    1.585764e+09  \n",
       "25%    1.585764e+09  \n",
       "50%    1.585764e+09  \n",
       "75%    1.585764e+09  \n",
       "max    1.585764e+09  "
      ]
     },
     "execution_count": 6,
     "metadata": {},
     "output_type": "execute_result"
    }
   ],
   "source": [
    "# df_weather has a max humidity of 100%.  Skipping this step."
   ]
  },
  {
   "cell_type": "code",
   "execution_count": 17,
   "metadata": {},
   "outputs": [
    {
     "data": {
      "text/plain": [
       "Int64Index([], dtype='int64')"
      ]
     },
     "execution_count": 17,
     "metadata": {},
     "output_type": "execute_result"
    }
   ],
   "source": [
    "#  Get the indices of cities that have humidity over 100%.\n"
   ]
  },
  {
   "cell_type": "code",
   "execution_count": 19,
   "metadata": {},
   "outputs": [
    {
     "data": {
      "text/html": [
       "<div>\n",
       "<style scoped>\n",
       "    .dataframe tbody tr th:only-of-type {\n",
       "        vertical-align: middle;\n",
       "    }\n",
       "\n",
       "    .dataframe tbody tr th {\n",
       "        vertical-align: top;\n",
       "    }\n",
       "\n",
       "    .dataframe thead th {\n",
       "        text-align: right;\n",
       "    }\n",
       "</style>\n",
       "<table border=\"1\" class=\"dataframe\">\n",
       "  <thead>\n",
       "    <tr style=\"text-align: right;\">\n",
       "      <th></th>\n",
       "      <th>City</th>\n",
       "      <th>Lat</th>\n",
       "      <th>Lng</th>\n",
       "      <th>Max Temp</th>\n",
       "      <th>Humidity</th>\n",
       "      <th>Cloudiness</th>\n",
       "      <th>Wind Speed</th>\n",
       "      <th>Country</th>\n",
       "      <th>Date</th>\n",
       "    </tr>\n",
       "  </thead>\n",
       "  <tbody>\n",
       "    <tr>\n",
       "      <td>0</td>\n",
       "      <td>butaritari</td>\n",
       "      <td>3.07</td>\n",
       "      <td>172.79</td>\n",
       "      <td>83.32</td>\n",
       "      <td>74</td>\n",
       "      <td>84</td>\n",
       "      <td>10.42</td>\n",
       "      <td>KI</td>\n",
       "      <td>1593605283</td>\n",
       "    </tr>\n",
       "    <tr>\n",
       "      <td>1</td>\n",
       "      <td>yerbogachen</td>\n",
       "      <td>61.28</td>\n",
       "      <td>108.01</td>\n",
       "      <td>79.52</td>\n",
       "      <td>58</td>\n",
       "      <td>20</td>\n",
       "      <td>7.70</td>\n",
       "      <td>RU</td>\n",
       "      <td>1593605121</td>\n",
       "    </tr>\n",
       "    <tr>\n",
       "      <td>2</td>\n",
       "      <td>cape town</td>\n",
       "      <td>-33.93</td>\n",
       "      <td>18.42</td>\n",
       "      <td>73.00</td>\n",
       "      <td>77</td>\n",
       "      <td>27</td>\n",
       "      <td>4.70</td>\n",
       "      <td>ZA</td>\n",
       "      <td>1593605039</td>\n",
       "    </tr>\n",
       "    <tr>\n",
       "      <td>3</td>\n",
       "      <td>touba</td>\n",
       "      <td>8.28</td>\n",
       "      <td>-7.68</td>\n",
       "      <td>79.97</td>\n",
       "      <td>75</td>\n",
       "      <td>82</td>\n",
       "      <td>3.58</td>\n",
       "      <td>CI</td>\n",
       "      <td>1593605284</td>\n",
       "    </tr>\n",
       "    <tr>\n",
       "      <td>4</td>\n",
       "      <td>jamestown</td>\n",
       "      <td>42.10</td>\n",
       "      <td>-79.24</td>\n",
       "      <td>64.00</td>\n",
       "      <td>88</td>\n",
       "      <td>1</td>\n",
       "      <td>6.93</td>\n",
       "      <td>US</td>\n",
       "      <td>1593605284</td>\n",
       "    </tr>\n",
       "  </tbody>\n",
       "</table>\n",
       "</div>"
      ],
      "text/plain": [
       "          City    Lat     Lng  Max Temp  Humidity  Cloudiness  Wind Speed  \\\n",
       "0   butaritari   3.07  172.79     83.32        74          84       10.42   \n",
       "1  yerbogachen  61.28  108.01     79.52        58          20        7.70   \n",
       "2    cape town -33.93   18.42     73.00        77          27        4.70   \n",
       "3        touba   8.28   -7.68     79.97        75          82        3.58   \n",
       "4    jamestown  42.10  -79.24     64.00        88           1        6.93   \n",
       "\n",
       "  Country        Date  \n",
       "0      KI  1593605283  \n",
       "1      RU  1593605121  \n",
       "2      ZA  1593605039  \n",
       "3      CI  1593605284  \n",
       "4      US  1593605284  "
      ]
     },
     "execution_count": 19,
     "metadata": {},
     "output_type": "execute_result"
    }
   ],
   "source": [
    "# Make a new DataFrame equal to the city data to drop all humidity outliers by index.\n",
    "# Passing \"inplace=False\" will make a copy of the city_data DataFrame, which we call \"clean_city_data\".\n"
   ]
  },
  {
   "cell_type": "code",
   "execution_count": 13,
   "metadata": {},
   "outputs": [],
   "source": [
    "import random\n",
    "from datetime import date\n",
    "\n",
    "def make_scatter_plot(df, x_col, y_col):\n",
    "    \"This creates a scatter plot given a list of x values, y values, x label, y label and title\"\n",
    "    x = df[x_col]\n",
    "    y = df[y_col]\n",
    "  \n",
    "    \n",
    "    #generating random number to be included in fig name so that new figure is unlikely to \n",
    "    #be named the same as a previous figure \n",
    "    \n",
    "    fig_num = random.randint(1, 100)\n",
    "\n",
    "    plt.scatter(x, y)\n",
    "    plt.xlabel(x_col)\n",
    "    plt.ylabel(y_col)\n",
    "    today = date.today()\n",
    "    plt.title(f\"{y_col} as a function of {x_col} {today}\")\n",
    "    plt.ylim(min(y)-10,max(y)+10)\n",
    "    plt.savefig(f\"{x_col}_{y_col} ({today})_{fig_num}.png\")\n",
    "   \n",
    "    linregress(x,y)\n",
    "    reg = linregress(x,y)\n",
    "    reg_line = reg[0]*x + reg[1]\n",
    "\n",
    "    plt.plot(x,reg_line, color=\"red\")\n",
    "    r_squared = round(reg[2]**2,2)\n",
    "    print(f\"r squared = {r_squared}\")"
   ]
  },
  {
   "cell_type": "markdown",
   "metadata": {},
   "source": [
    "## Plotting the Data\n",
    "* Use proper labeling of the plots using plot titles (including date of analysis) and axes labels.\n",
    "* Save the plotted figures as .pngs."
   ]
  },
  {
   "cell_type": "markdown",
   "metadata": {},
   "source": [
    "## Latitude vs. Temperature Plot"
   ]
  },
  {
   "cell_type": "code",
   "execution_count": 29,
   "metadata": {},
   "outputs": [
    {
     "name": "stdout",
     "output_type": "stream",
     "text": [
      "r squared = 0.23\n"
     ]
    },
    {
     "data": {
      "image/png": "[encoded data removed]",
      "text/plain": [
       "<Figure size 432x288 with 1 Axes>"
      ]
     },
     "metadata": {
      "needs_background": "light"
     },
     "output_type": "display_data"
    }
   ],
   "source": [
    "plt.savefig('lat vs max temp.png', dpi=300, bbox_inches='tight')\n",
    "make_scatter_plot(df_weather, 'Lat', 'Max Temp')"
   ]
  },
  {
   "cell_type": "markdown",
   "metadata": {},
   "source": [
    "This graph shows the relationship between max temperature and latitude.  While the r^2 value is relatively weak (0.23), you need to take into consideration that latitude goes below zero into negative numbers.  If you were to split the graph on the latitude from negative to zero and then from zero to positive I'm sure you would get a stronger r^2 value."
   ]
  },
  {
   "cell_type": "markdown",
   "metadata": {},
   "source": [
    "## Latitude vs. Humidity Plot"
   ]
  },
  {
   "cell_type": "code",
   "execution_count": 16,
   "metadata": {},
   "outputs": [
    {
     "name": "stdout",
     "output_type": "stream",
     "text": [
      "r squared = 0.01\n"
     ]
    },
    {
     "data": {
      "image/png": "[encoded data removed]",
      "text/plain": [
       "<Figure size 432x288 with 1 Axes>"
      ]
     },
     "metadata": {
      "needs_background": "light"
     },
     "output_type": "display_data"
    }
   ],
   "source": [
    "make_scatter_plot(df_weather, 'Lat', 'Humidity')"
   ]
  },
  {
   "cell_type": "markdown",
   "metadata": {},
   "source": [
    "This graph shows the relationship between latitude and humidity.  A r^2 value of 0.01 means there is a weak relationship."
   ]
  },
  {
   "cell_type": "markdown",
   "metadata": {},
   "source": [
    "## Latitude vs. Cloudiness Plot"
   ]
  },
  {
   "cell_type": "code",
   "execution_count": 17,
   "metadata": {},
   "outputs": [
    {
     "name": "stdout",
     "output_type": "stream",
     "text": [
      "r squared = 0.01\n"
     ]
    },
    {
     "data": {
      "image/png": "[encoded data removed]",
      "text/plain": [
       "<Figure size 432x288 with 1 Axes>"
      ]
     },
     "metadata": {
      "needs_background": "light"
     },
     "output_type": "display_data"
    }
   ],
   "source": [
    "make_scatter_plot(df_weather, 'Lat', 'Cloudiness')"
   ]
  },
  {
   "cell_type": "markdown",
   "metadata": {},
   "source": [
    "This graph shows the relationship between latitude and cloudiness.  A r^2 value of 0.01 means there is a weak relationship."
   ]
  },
  {
   "cell_type": "markdown",
   "metadata": {},
   "source": [
    "## Latitude vs. Wind Speed Plot"
   ]
  },
  {
   "cell_type": "code",
   "execution_count": 18,
   "metadata": {},
   "outputs": [
    {
     "name": "stdout",
     "output_type": "stream",
     "text": [
      "r squared = 0.0\n"
     ]
    },
    {
     "data": {
      "image/png": "[encoded data removed]",
      "text/plain": [
       "<Figure size 432x288 with 1 Axes>"
      ]
     },
     "metadata": {
      "needs_background": "light"
     },
     "output_type": "display_data"
    }
   ],
   "source": [
    "make_scatter_plot(df_weather, 'Lat', 'Wind Speed')"
   ]
  },
  {
   "cell_type": "markdown",
   "metadata": {},
   "source": [
    "This graph shows the relationship between latitude and wind speed. A r^2 value of 0.0 means there is no relationship."
   ]
  },
  {
   "cell_type": "markdown",
   "metadata": {},
   "source": [
    "## Linear Regression"
   ]
  },
  {
   "cell_type": "code",
   "execution_count": 20,
   "metadata": {},
   "outputs": [
    {
     "name": "stdout",
     "output_type": "stream",
     "text": [
      "382 cities were analyzed for the northern hemisphere\n",
      "165 cities were analyzed for the southern hemisphere\n"
     ]
    },
    {
     "data": {
      "text/plain": [
       "-0.115"
      ]
     },
     "execution_count": 20,
     "metadata": {},
     "output_type": "execute_result"
    }
   ],
   "source": [
    "df_weather.head()\n",
    "\n",
    "north = df_weather[df_weather['Lat']>0]\n",
    "north.head()\n",
    "print(f\"{len(north)} cities were analyzed for the northern hemisphere\")\n",
    "\n",
    "south = df_weather[df_weather['Lat']<0]\n",
    "south.head()\n",
    "print(f\"{len(south)} cities were analyzed for the southern hemisphere\")  \n",
    "\n",
    "# check that filtering worked\n",
    "min(north['Lat'])\n",
    "max(south['Lat'])"
   ]
  },
  {
   "cell_type": "markdown",
   "metadata": {},
   "source": [
    "####  Northern Hemisphere - Max Temp vs. Latitude Linear Regression"
   ]
  },
  {
   "cell_type": "code",
   "execution_count": 21,
   "metadata": {},
   "outputs": [
    {
     "name": "stdout",
     "output_type": "stream",
     "text": [
      "r squared = 0.68\n"
     ]
    },
    {
     "data": {
      "image/png": "[encoded data removed]",
      "text/plain": [
       "<Figure size 432x288 with 1 Axes>"
      ]
     },
     "metadata": {
      "needs_background": "light"
     },
     "output_type": "display_data"
    }
   ],
   "source": [
    "make_scatter_plot(north, 'Lat', 'Max Temp')"
   ]
  },
  {
   "cell_type": "markdown",
   "metadata": {},
   "source": [
    "This is a graph that shows the relationship between northern hemisphere cities and max temperature.  There is a much stronger correlation between the two."
   ]
  },
  {
   "cell_type": "markdown",
   "metadata": {},
   "source": [
    "####  Southern Hemisphere - Max Temp vs. Latitude Linear Regression"
   ]
  },
  {
   "cell_type": "code",
   "execution_count": 22,
   "metadata": {},
   "outputs": [
    {
     "name": "stdout",
     "output_type": "stream",
     "text": [
      "r squared = 0.66\n"
     ]
    },
    {
     "data": {
      "image/png": "[encoded data removed]",
      "text/plain": [
       "<Figure size 432x288 with 1 Axes>"
      ]
     },
     "metadata": {
      "needs_background": "light"
     },
     "output_type": "display_data"
    }
   ],
   "source": [
    "make_scatter_plot(south, 'Lat', 'Max Temp')"
   ]
  },
  {
   "cell_type": "markdown",
   "metadata": {},
   "source": [
    "This is a graph that shows the relationship between southern hemisphere cities and max temperature. There is a much stronger correlation between the two."
   ]
  },
  {
   "cell_type": "markdown",
   "metadata": {},
   "source": [
    "####  Northern Hemisphere - Humidity (%) vs. Latitude Linear Regression"
   ]
  },
  {
   "cell_type": "code",
   "execution_count": 23,
   "metadata": {},
   "outputs": [
    {
     "name": "stdout",
     "output_type": "stream",
     "text": [
      "r squared = 0.02\n"
     ]
    },
    {
     "data": {
      "image/png": "[encoded data removed]",
      "text/plain": [
       "<Figure size 432x288 with 1 Axes>"
      ]
     },
     "metadata": {
      "needs_background": "light"
     },
     "output_type": "display_data"
    }
   ],
   "source": [
    "make_scatter_plot(north, 'Lat', 'Humidity')"
   ]
  },
  {
   "cell_type": "markdown",
   "metadata": {},
   "source": [
    "This is a graph that shows the relationship between norther hemisphere cities and humidity. There isn't a strong correlation between the two."
   ]
  },
  {
   "cell_type": "markdown",
   "metadata": {},
   "source": [
    "####  Southern Hemisphere - Humidity (%) vs. Latitude Linear Regression"
   ]
  },
  {
   "cell_type": "code",
   "execution_count": 24,
   "metadata": {},
   "outputs": [
    {
     "name": "stdout",
     "output_type": "stream",
     "text": [
      "r squared = 0.01\n"
     ]
    },
    {
     "data": {
      "image/png": "[encoded data removed]",
      "text/plain": [
       "<Figure size 432x288 with 1 Axes>"
      ]
     },
     "metadata": {
      "needs_background": "light"
     },
     "output_type": "display_data"
    }
   ],
   "source": [
    "make_scatter_plot(south, 'Lat', 'Humidity')"
   ]
  },
  {
   "cell_type": "markdown",
   "metadata": {},
   "source": [
    "This is a graph that shows the relationship between southern hemisphere cities and humidity. There isn't a strong correlation between the two."
   ]
  },
  {
   "cell_type": "markdown",
   "metadata": {},
   "source": [
    "####  Northern Hemisphere - Cloudiness (%) vs. Latitude Linear Regression"
   ]
  },
  {
   "cell_type": "code",
   "execution_count": 25,
   "metadata": {},
   "outputs": [
    {
     "name": "stdout",
     "output_type": "stream",
     "text": [
      "r squared = 0.01\n"
     ]
    },
    {
     "data": {
      "image/png": "[encoded data removed]",
      "text/plain": [
       "<Figure size 432x288 with 1 Axes>"
      ]
     },
     "metadata": {
      "needs_background": "light"
     },
     "output_type": "display_data"
    }
   ],
   "source": [
    "make_scatter_plot(north, 'Lat', 'Cloudiness')"
   ]
  },
  {
   "cell_type": "markdown",
   "metadata": {},
   "source": [
    "This is a graph that shows the relationship between northern hemisphere cities and cloudiness. There isn't a strong correlation between the two."
   ]
  },
  {
   "cell_type": "markdown",
   "metadata": {},
   "source": [
    "####  Southern Hemisphere - Cloudiness (%) vs. Latitude Linear Regression"
   ]
  },
  {
   "cell_type": "code",
   "execution_count": 26,
   "metadata": {},
   "outputs": [
    {
     "name": "stdout",
     "output_type": "stream",
     "text": [
      "r squared = 0.03\n"
     ]
    },
    {
     "data": {
      "image/png": "[encoded data removed]",
      "text/plain": [
       "<Figure size 432x288 with 1 Axes>"
      ]
     },
     "metadata": {
      "needs_background": "light"
     },
     "output_type": "display_data"
    }
   ],
   "source": [
    "make_scatter_plot(south, 'Lat', 'Cloudiness')"
   ]
  },
  {
   "cell_type": "markdown",
   "metadata": {},
   "source": [
    "This is a graph that shows the relationship between southern hemisphere cities and cloudiness. There isn't a strong correlation between the two."
   ]
  },
  {
   "cell_type": "markdown",
   "metadata": {},
   "source": [
    "####  Northern Hemisphere - Wind Speed (mph) vs. Latitude Linear Regression"
   ]
  },
  {
   "cell_type": "code",
   "execution_count": 27,
   "metadata": {},
   "outputs": [
    {
     "name": "stdout",
     "output_type": "stream",
     "text": [
      "r squared = 0.01\n"
     ]
    },
    {
     "data": {
      "image/png": "[encoded data removed]",
      "text/plain": [
       "<Figure size 432x288 with 1 Axes>"
      ]
     },
     "metadata": {
      "needs_background": "light"
     },
     "output_type": "display_data"
    }
   ],
   "source": [
    "make_scatter_plot(north, 'Lat', 'Wind Speed')"
   ]
  },
  {
   "cell_type": "markdown",
   "metadata": {},
   "source": [
    "This is a graph that shows the relationship between northern hemisphere cities and wind speed. There isn't a strong correlation between the two."
   ]
  },
  {
   "cell_type": "markdown",
   "metadata": {},
   "source": [
    "####  Southern Hemisphere - Wind Speed (mph) vs. Latitude Linear Regression"
   ]
  },
  {
   "cell_type": "code",
   "execution_count": 28,
   "metadata": {},
   "outputs": [
    {
     "name": "stdout",
     "output_type": "stream",
     "text": [
      "r squared = 0.01\n"
     ]
    },
    {
     "data": {
      "image/png": "[encoded data removed]",
      "text/plain": [
       "<Figure size 432x288 with 1 Axes>"
      ]
     },
     "metadata": {
      "needs_background": "light"
     },
     "output_type": "display_data"
    }
   ],
   "source": [
    "make_scatter_plot(south, 'Lat', 'Wind Speed')"
   ]
  },
  {
   "cell_type": "markdown",
   "metadata": {},
   "source": [
    "This is a graph that shows the relationship between southern hemisphere cities and wind speed. There isn't a strong correlation between the two."
   ]
  }
 ],
 "metadata": {
  "anaconda-cloud": {},
  "kernel_info": {
   "name": "python3"
  },
  "kernelspec": {
   "display_name": "Python 3",
   "language": "python",
   "name": "python3"
  },
  "language_info": {
   "codemirror_mode": {
    "name": "ipython",
    "version": 3
   },
   "file_extension": ".py",
   "mimetype": "text/x-python",
   "name": "python",
   "nbconvert_exporter": "python",
   "pygments_lexer": "ipython3",
   "version": "3.8.5"
  },
  "latex_envs": {
   "LaTeX_envs_menu_present": true,
   "autoclose": false,
   "autocomplete": true,
   "bibliofile": "biblio.bib",
   "cite_by": "apalike",
   "current_citInitial": 1,
   "eqLabelWithNumbers": true,
   "eqNumInitial": 1,
   "hotkeys": {
    "equation": "Ctrl-E",
    "itemize": "Ctrl-I"
   },
   "labels_anchors": false,
   "latex_user_defs": false,
   "report_style_numbering": false,
   "user_envs_cfg": false
  },
  "nteract": {
   "version": "0.12.3"
  }
 },
 "nbformat": 4,
 "nbformat_minor": 4
}
